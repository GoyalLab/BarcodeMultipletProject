{
 "cells": [
  {
   "cell_type": "code",
   "execution_count": 1,
   "metadata": {},
   "outputs": [],
   "source": [
    "from scipy import io\n",
    "import pandas as pd\n",
    "import os\n",
    "from tqdm import tqdm\n",
    "import numpy as np"
   ]
  },
  {
   "cell_type": "markdown",
   "source": [
    "## Base case multiplet/singlet calculation"
   ],
   "metadata": {
    "collapsed": false
   }
  },
  {
   "cell_type": "code",
   "execution_count": 18,
   "metadata": {},
   "outputs": [],
   "source": [
    "# file=\"../data/Fatemap/stepFourStarcodeShavedReads50.txt\"\n",
    "file=\"C:/Workspace/Yogesh Rotation/data/fatemapID/stepFourStarcodeShavedReads50.txt\"\n",
    "# TODO: play around [2,4]\n",
    "umi_cutoff_ratio=3/4e5\n",
    "umi_diff_threshold=50\n",
    "dominant_threshold=10\n",
    "def check_all_unique(target):\n",
    "    return len(list(set(target)))==len(target)"
   ]
  },
  {
   "cell_type": "code",
   "execution_count": 22,
   "outputs": [
    {
     "data": {
      "text/plain": "2.86011"
     },
     "execution_count": 22,
     "metadata": {},
     "output_type": "execute_result"
    }
   ],
   "source": [
    "umi_cutoff_ratio*381348"
   ],
   "metadata": {
    "collapsed": false,
    "pycharm": {
     "name": "#%%\n"
    }
   }
  },
  {
   "cell_type": "code",
   "execution_count": 13,
   "metadata": {},
   "outputs": [
    {
     "data": {
      "text/plain": "1    442323\n3    381348\n2    377422\n4    343348\nName: sampleNum, dtype: int64"
     },
     "execution_count": 13,
     "metadata": {},
     "output_type": "execute_result"
    }
   ],
   "source": [
    "df=pd.read_csv(file,sep='\\t')\n",
    "# df=df[(df['sampleNum']==1)| (df['sampleNum']==2)]\n",
    "df_sum=df['sampleNum'].value_counts()\n",
    "all_samples=df['sampleNum'].unique()\n",
    "# print(all_samples)\n",
    "df_sum"
   ]
  },
  {
   "cell_type": "code",
   "execution_count": 36,
   "outputs": [
    {
     "name": "stdout",
     "output_type": "stream",
     "text": [
      "(39207, 4)\n"
     ]
    },
    {
     "data": {
      "text/plain": "             cellID                                          fatemapID  \\\n0  AAACCCAAGACATAGT  ATTCTAGTTGTAGTACTAGATGATCATCATGTTGTTCTTGGTCTTG...   \n1  AAACCCAAGCCGTTAT  ATTCCAGCACGACTACGTGCTGCACTTGGACCTGGTGGAGATCTAC...   \n2  AAACCCAAGCCGTTAT  ATTGGACCAGTTGATCAAGTACGTCATGTTCTTGGACGACGTCGTC...   \n3  AAACCCAAGTCCGCGT  ATTGTACAACAAGTTCTACTTCCTGTAGTTGAAGGTGTTGCACCAG...   \n4  AAACCCACACGCGTGT  ATTCTAGTTGTAGTACTAGATGATCATCATGTTGTTCTTGGTCTTG...   \n\n   sampleNum  nUMI  \n0          1    59  \n1          1    14  \n2          1     8  \n3          1    13  \n4          1    16  ",
      "text/html": "<div>\n<style scoped>\n    .dataframe tbody tr th:only-of-type {\n        vertical-align: middle;\n    }\n\n    .dataframe tbody tr th {\n        vertical-align: top;\n    }\n\n    .dataframe thead th {\n        text-align: right;\n    }\n</style>\n<table border=\"1\" class=\"dataframe\">\n  <thead>\n    <tr style=\"text-align: right;\">\n      <th></th>\n      <th>cellID</th>\n      <th>fatemapID</th>\n      <th>sampleNum</th>\n      <th>nUMI</th>\n    </tr>\n  </thead>\n  <tbody>\n    <tr>\n      <th>0</th>\n      <td>AAACCCAAGACATAGT</td>\n      <td>ATTCTAGTTGTAGTACTAGATGATCATCATGTTGTTCTTGGTCTTG...</td>\n      <td>1</td>\n      <td>59</td>\n    </tr>\n    <tr>\n      <th>1</th>\n      <td>AAACCCAAGCCGTTAT</td>\n      <td>ATTCCAGCACGACTACGTGCTGCACTTGGACCTGGTGGAGATCTAC...</td>\n      <td>1</td>\n      <td>14</td>\n    </tr>\n    <tr>\n      <th>2</th>\n      <td>AAACCCAAGCCGTTAT</td>\n      <td>ATTGGACCAGTTGATCAAGTACGTCATGTTCTTGGACGACGTCGTC...</td>\n      <td>1</td>\n      <td>8</td>\n    </tr>\n    <tr>\n      <th>3</th>\n      <td>AAACCCAAGTCCGCGT</td>\n      <td>ATTGTACAACAAGTTCTACTTCCTGTAGTTGAAGGTGTTGCACCAG...</td>\n      <td>1</td>\n      <td>13</td>\n    </tr>\n    <tr>\n      <th>4</th>\n      <td>AAACCCACACGCGTGT</td>\n      <td>ATTCTAGTTGTAGTACTAGATGATCATCATGTTGTTCTTGGTCTTG...</td>\n      <td>1</td>\n      <td>16</td>\n    </tr>\n  </tbody>\n</table>\n</div>"
     },
     "execution_count": 36,
     "metadata": {},
     "output_type": "execute_result"
    }
   ],
   "source": [
    "good_data_ls=[]\n",
    "for cur_sample_num in df[\"sampleNum\"].unique():\n",
    "    cur_sample_df=df[df[\"sampleNum\"]==cur_sample_num]\n",
    "    cur_umi_adjusted_cutoff=round(umi_cutoff_ratio*cur_sample_df.shape[0])\n",
    "    cur_freq_df=cur_sample_df.groupby(['cellID','BC50StarcodeD8','sampleNum']).size().reset_index()\n",
    "    cur_freq_df.columns=['cellID',\"fatemapID\",'sampleNum',\"nUMI\"]\n",
    "    cur_good_data=cur_freq_df[cur_freq_df['nUMI']>=cur_umi_adjusted_cutoff].reset_index(drop=True)\n",
    "    good_data_ls.append(cur_good_data)\n",
    "good_data=pd.concat(good_data_ls)\n",
    "good_data=good_data.sort_values(by=[\"sampleNum\", 'cellID', 'fatemapID', 'nUMI']).reset_index(drop=True)\n",
    "print(good_data.shape)\n",
    "good_data.head()"
   ],
   "metadata": {
    "collapsed": false,
    "pycharm": {
     "name": "#%%\n"
    }
   }
  },
  {
   "cell_type": "code",
   "execution_count": 37,
   "outputs": [
    {
     "name": "stdout",
     "output_type": "stream",
     "text": [
      "(39207, 4)\n"
     ]
    },
    {
     "data": {
      "text/plain": "             cellID                                          fatemapID  \\\n0  AAACCCAAGACATAGT  ATTCTAGTTGTAGTACTAGATGATCATCATGTTGTTCTTGGTCTTG...   \n1  AAACCCAAGCCGTTAT  ATTCCAGCACGACTACGTGCTGCACTTGGACCTGGTGGAGATCTAC...   \n2  AAACCCAAGCCGTTAT  ATTGGACCAGTTGATCAAGTACGTCATGTTCTTGGACGACGTCGTC...   \n3  AAACCCAAGTCCGCGT  ATTGTACAACAAGTTCTACTTCCTGTAGTTGAAGGTGTTGCACCAG...   \n4  AAACCCACACGCGTGT  ATTCTAGTTGTAGTACTAGATGATCATCATGTTGTTCTTGGTCTTG...   \n\n   sampleNum  nUMI  \n0          1    59  \n1          1    14  \n2          1     8  \n3          1    13  \n4          1    16  ",
      "text/html": "<div>\n<style scoped>\n    .dataframe tbody tr th:only-of-type {\n        vertical-align: middle;\n    }\n\n    .dataframe tbody tr th {\n        vertical-align: top;\n    }\n\n    .dataframe thead th {\n        text-align: right;\n    }\n</style>\n<table border=\"1\" class=\"dataframe\">\n  <thead>\n    <tr style=\"text-align: right;\">\n      <th></th>\n      <th>cellID</th>\n      <th>fatemapID</th>\n      <th>sampleNum</th>\n      <th>nUMI</th>\n    </tr>\n  </thead>\n  <tbody>\n    <tr>\n      <th>0</th>\n      <td>AAACCCAAGACATAGT</td>\n      <td>ATTCTAGTTGTAGTACTAGATGATCATCATGTTGTTCTTGGTCTTG...</td>\n      <td>1</td>\n      <td>59</td>\n    </tr>\n    <tr>\n      <th>1</th>\n      <td>AAACCCAAGCCGTTAT</td>\n      <td>ATTCCAGCACGACTACGTGCTGCACTTGGACCTGGTGGAGATCTAC...</td>\n      <td>1</td>\n      <td>14</td>\n    </tr>\n    <tr>\n      <th>2</th>\n      <td>AAACCCAAGCCGTTAT</td>\n      <td>ATTGGACCAGTTGATCAAGTACGTCATGTTCTTGGACGACGTCGTC...</td>\n      <td>1</td>\n      <td>8</td>\n    </tr>\n    <tr>\n      <th>3</th>\n      <td>AAACCCAAGTCCGCGT</td>\n      <td>ATTGTACAACAAGTTCTACTTCCTGTAGTTGAAGGTGTTGCACCAG...</td>\n      <td>1</td>\n      <td>13</td>\n    </tr>\n    <tr>\n      <th>4</th>\n      <td>AAACCCACACGCGTGT</td>\n      <td>ATTCTAGTTGTAGTACTAGATGATCATCATGTTGTTCTTGGTCTTG...</td>\n      <td>1</td>\n      <td>16</td>\n    </tr>\n  </tbody>\n</table>\n</div>"
     },
     "execution_count": 37,
     "metadata": {},
     "output_type": "execute_result"
    }
   ],
   "source": [
    "freq_df=df.groupby(['cellID','BC50StarcodeD8','sampleNum']).size().reset_index()\n",
    "freq_df.columns=['cellID',\"fatemapID\",'sampleNum',\"nUMI\"]\n",
    "good_data=freq_df[freq_df['nUMI']>=3].reset_index(drop=True)\n",
    "# good_data.to_csv(\"../good_data.tsv\",sep='\\t',index=False)\n",
    "good_data=good_data.sort_values(by=[\"sampleNum\", 'cellID', 'fatemapID', 'nUMI']).reset_index(drop=True)\n",
    "print(good_data.shape)\n",
    "good_data.head()"
   ],
   "metadata": {
    "collapsed": false,
    "pycharm": {
     "name": "#%%\n"
    }
   }
  },
  {
   "cell_type": "code",
   "execution_count": 28,
   "outputs": [
    {
     "data": {
      "text/plain": "(39207, 4)"
     },
     "execution_count": 28,
     "metadata": {},
     "output_type": "execute_result"
    }
   ],
   "source": [
    "good_data.shape"
   ],
   "metadata": {
    "collapsed": false,
    "pycharm": {
     "name": "#%%\n"
    }
   }
  },
  {
   "cell_type": "code",
   "execution_count": 8,
   "outputs": [
    {
     "name": "stdout",
     "output_type": "stream",
     "text": [
      "(39207, 4)\n"
     ]
    },
    {
     "data": {
      "text/plain": "             cellID                                          fatemapID  \\\n0  AAACCCAAGACATAGT  ATTCTAGTTGTAGTACTAGATGATCATCATGTTGTTCTTGGTCTTG...   \n1  AAACCCAAGAGAGGTA  ATTCTTCTTGGTGCTCGTGCTGTAGCACCTCGTCTTGCTGTTGGTG...   \n2  AAACCCAAGATGCAGC  ATTGGACCTCTAGTTCCACTACGAGTTCATGTAGTTGAAGCACGTG...   \n3  AAACCCAAGCCGTTAT  ATTCCAGCACGACTACGTGCTGCACTTGGACCTGGTGGAGATCTAC...   \n4  AAACCCAAGCCGTTAT  ATTGGACCAGTTGATCAAGTACGTCATGTTCTTGGACGACGTCGTC...   \n\n   sampleNum  nUMI  \n0          1    59  \n1          3    38  \n2          2    16  \n3          1    14  \n4          1     8  ",
      "text/html": "<div>\n<style scoped>\n    .dataframe tbody tr th:only-of-type {\n        vertical-align: middle;\n    }\n\n    .dataframe tbody tr th {\n        vertical-align: top;\n    }\n\n    .dataframe thead th {\n        text-align: right;\n    }\n</style>\n<table border=\"1\" class=\"dataframe\">\n  <thead>\n    <tr style=\"text-align: right;\">\n      <th></th>\n      <th>cellID</th>\n      <th>fatemapID</th>\n      <th>sampleNum</th>\n      <th>nUMI</th>\n    </tr>\n  </thead>\n  <tbody>\n    <tr>\n      <th>0</th>\n      <td>AAACCCAAGACATAGT</td>\n      <td>ATTCTAGTTGTAGTACTAGATGATCATCATGTTGTTCTTGGTCTTG...</td>\n      <td>1</td>\n      <td>59</td>\n    </tr>\n    <tr>\n      <th>1</th>\n      <td>AAACCCAAGAGAGGTA</td>\n      <td>ATTCTTCTTGGTGCTCGTGCTGTAGCACCTCGTCTTGCTGTTGGTG...</td>\n      <td>3</td>\n      <td>38</td>\n    </tr>\n    <tr>\n      <th>2</th>\n      <td>AAACCCAAGATGCAGC</td>\n      <td>ATTGGACCTCTAGTTCCACTACGAGTTCATGTAGTTGAAGCACGTG...</td>\n      <td>2</td>\n      <td>16</td>\n    </tr>\n    <tr>\n      <th>3</th>\n      <td>AAACCCAAGCCGTTAT</td>\n      <td>ATTCCAGCACGACTACGTGCTGCACTTGGACCTGGTGGAGATCTAC...</td>\n      <td>1</td>\n      <td>14</td>\n    </tr>\n    <tr>\n      <th>4</th>\n      <td>AAACCCAAGCCGTTAT</td>\n      <td>ATTGGACCAGTTGATCAAGTACGTCATGTTCTTGGACGACGTCGTC...</td>\n      <td>1</td>\n      <td>8</td>\n    </tr>\n  </tbody>\n</table>\n</div>"
     },
     "execution_count": 8,
     "metadata": {},
     "output_type": "execute_result"
    }
   ],
   "source": [
    "print(good_data.shape)\n",
    "good_data.head()"
   ],
   "metadata": {
    "collapsed": false,
    "pycharm": {
     "name": "#%%\n"
    }
   }
  },
  {
   "cell_type": "code",
   "execution_count": 9,
   "outputs": [
    {
     "name": "stderr",
     "output_type": "stream",
     "text": [
      "100%|██████████| 39207/39207 [00:06<00:00, 6042.93it/s]\n"
     ]
    }
   ],
   "source": [
    "## loop through dataframe and examine barcodes freq for cells\n",
    "cellID2fatemap_dict={}\n",
    "cellID2fatemap_count_dict={}\n",
    "\n",
    "# initialize the count dictionaries\n",
    "for i in all_samples:\n",
    "    cellID2fatemap_dict[i]={}\n",
    "    cellID2fatemap_count_dict[i]={}\n",
    "\n",
    "# loop through each row\n",
    "for index, row in tqdm(good_data.iterrows(),total=good_data.shape[0]):\n",
    "    cur_cellID=row['cellID']\n",
    "    cur_fateID=row['fatemapID']\n",
    "    cur_sample_num=int(row['sampleNum'])\n",
    "\n",
    "    # only look at samples 1 and 2 for now\n",
    "    # if(cur_sample_num not in all_samples):\n",
    "    #     continue\n",
    "    if cur_cellID not in cellID2fatemap_dict[cur_sample_num].keys():\n",
    "        cellID2fatemap_dict[cur_sample_num][cur_cellID]=[cur_fateID]\n",
    "        cellID2fatemap_count_dict[cur_sample_num][cur_cellID]=1\n",
    "    else:\n",
    "        # only add if the fateID is not present in the dict\n",
    "        if cur_fateID not in cellID2fatemap_dict[cur_sample_num][cur_cellID]:\n",
    "            cellID2fatemap_dict[cur_sample_num][cur_cellID].append(cur_fateID)\n",
    "            cellID2fatemap_count_dict[cur_sample_num][cur_cellID]+=1"
   ],
   "metadata": {
    "collapsed": false,
    "pycharm": {
     "name": "#%%\n"
    }
   }
  },
  {
   "cell_type": "code",
   "execution_count": 10,
   "outputs": [
    {
     "name": "stdout",
     "output_type": "stream",
     "text": [
      "Total cells: 39207\n",
      "Sample 1 singlet: 4564\n",
      "Sample 2 singlet: 4366\n",
      "Sample 3 singlet: 5441\n",
      "Sample 4 singlet: 2999\n",
      "Total Singlets: 17370\n",
      "Total Multiplets: 8200\n"
     ]
    }
   ],
   "source": [
    "# sample1_barcodes=list(good_data[good_data[\"sampleNum\"]==1][\"cellID\"].values)\n",
    "# sample2_barcodes=list(good_data[good_data[\"sampleNum\"]==2][\"cellID\"].values)\n",
    "# multilane_barcodes=set(sample1_barcodes).intersection(sample2_barcodes)\n",
    "multilane_barcodes=[]\n",
    "for cur_barcode in good_data[\"cellID\"].unique():\n",
    "    cur_df=good_data[good_data[\"cellID\"]==cur_barcode]\n",
    "    if(len(cur_df[\"sampleNum\"].unique())>1):\n",
    "        multilane_barcodes.append(cur_barcode)\n",
    "\n",
    "singlets=[]\n",
    "multiplets=[]\n",
    "print(\"Total cells: {}\".format(len(good_data[\"cellID\"])))\n",
    "for sample_id, cur_dict in cellID2fatemap_count_dict.items():\n",
    "    cur_sample_count=0\n",
    "    for barcode, count in cur_dict.items():\n",
    "        # if the barcode is present in more than one lane, remove it\n",
    "        if barcode in multilane_barcodes:\n",
    "            continue\n",
    "        if count==1:\n",
    "            cur_sample_count+=1\n",
    "            singlets.append(barcode)\n",
    "        else:\n",
    "            multiplets.append(barcode)\n",
    "    print(\"Sample {} singlet: {}\".format(sample_id,cur_sample_count))\n",
    "print(\"Total Singlets: {}\\nTotal Multiplets: {}\".format(len(singlets),len(multiplets)))"
   ],
   "metadata": {
    "collapsed": false,
    "pycharm": {
     "name": "#%%\n"
    }
   }
  },
  {
   "cell_type": "code",
   "execution_count": 11,
   "outputs": [
    {
     "data": {
      "text/plain": "['AAGAACACAGCTTTGA',\n 'AAGAACACAGGCATGA',\n 'AAGGAATGTGACACAG',\n 'ACGATGTTCTGCGTCT',\n 'ACGGTTAGTCGACGCT',\n 'AGATCGTAGCTCCGAC',\n 'AGGCCACTCCGAACGC',\n 'ATTATCCTCGGTAGAG',\n 'ATTCCTATCCAATCCC',\n 'CAACCTCCAAATCAGA',\n 'CAACCTCCACCAGCGT',\n 'CAACCTCTCCGTAGGC',\n 'CAAGACTGTGTTCATG',\n 'CAAGAGGGTCTATGAC',\n 'CACAACATCCTCATAT',\n 'CACTGAATCGGCACTG',\n 'CAGCAATAGGCTCTAT',\n 'CCAATGATCTGGGATT',\n 'CCGGTAGAGTTACTCG',\n 'CGAGTGCCACTCACTC',\n 'CTATAGGGTTGGTAGG',\n 'CTCTCGAGTGGACCTC',\n 'CTTTCAACATGACTAC',\n 'GAAACCTAGGTAACTA',\n 'GACCAATAGTGGCAGT',\n 'GAGCTGCCAAGAGTGC',\n 'GAGCTGCCATAACAGA',\n 'GATCATGTCGAGCTGC',\n 'GATGACTAGCATCCTA',\n 'GATGAGGAGTAATTGG',\n 'GCAGCTGTCAGAGCGA',\n 'GGAATCTGTCCCTCAT',\n 'GGGAAGTAGCGAATGC',\n 'GTCAAACAGAGTGACC',\n 'GTCTACCAGGAGTCTG',\n 'GTGCACGCAGAGGCTA',\n 'TAAGCCAGTATGCAAA',\n 'TACACCCTCACACCGG',\n 'TACCCGTAGCCTCTGG',\n 'TACTTACTCTTCACGC',\n 'TAGATCGGTTAATCGC',\n 'TAGGAGGCAACGATTC',\n 'TATTTCGTCGGCCCAA',\n 'TCACACCGTGCGTCGT',\n 'TCACGGGGTGGTAACG',\n 'TCATCATCAGAGTCAG',\n 'TCATTACCACGTATAC',\n 'TCGATTTCATCTCATT',\n 'TGAACGTTCCCTATTA',\n 'TGAGCATAGGACTAAT',\n 'TGATTTCGTCCGAAAG',\n 'TGCATGATCCTTACCG',\n 'TTACGCCAGCATCCTA',\n 'TTACTGTAGGAGACCT',\n 'TTCAATCCACCAGCTG',\n 'TTCATGTTCATTCGGA',\n 'TTCTAGTTCTGAGGCC',\n 'TTCTTGAAGCTTCGTA',\n 'TTGGGCGCACTTCAGA']"
     },
     "execution_count": 11,
     "metadata": {},
     "output_type": "execute_result"
    }
   ],
   "source": [
    "multilane_barcodes"
   ],
   "metadata": {
    "collapsed": false,
    "pycharm": {
     "name": "#%%\n"
    }
   }
  },
  {
   "cell_type": "code",
   "execution_count": 12,
   "outputs": [],
   "source": [
    "with open(\"./output/step1_singlets.txt\",\"w+\") as fp:\n",
    "    fp.writelines(\"%s\\n\"%l for l in singlets)\n",
    "with open(\"./output/step1_multiplets.txt\",\"w+\") as fp:\n",
    "    fp.writelines(\"%s\\n\"%l for l in multiplets)"
   ],
   "metadata": {
    "collapsed": false,
    "pycharm": {
     "name": "#%%\n"
    }
   }
  },
  {
   "cell_type": "markdown",
   "source": [
    "## Salvage Scenarios\n",
    "- Sample combination of fatemapID in the same sample reoccur multiple times\n",
    "- Shared fatemapID across different samples\n",
    "- Barcode has one very high UMI count and a few very low UMI count"
   ],
   "metadata": {
    "collapsed": false
   }
  },
  {
   "cell_type": "code",
   "execution_count": 12,
   "outputs": [],
   "source": [
    "fatemapID_dict={}\n",
    "fatemapID_count_dict={}\n",
    "\n",
    "for cur_multiplet in multiplets:\n",
    "    cur_df=good_data[good_data[\"cellID\"]==cur_multiplet]\n",
    "    # only consider when more than 1 fate barcode appears\n",
    "    n_unique_fatemap_barcodes=len(cur_df[\"fatemapID\"].unique())\n",
    "    if(n_unique_fatemap_barcodes<2):\n",
    "        continue\n",
    "    # create unique key for each fatemap barcode ID\n",
    "    fatemapID_combo=\"_\".join(sorted(cur_df[\"fatemapID\"].unique()))\n",
    "    if fatemapID_combo not in fatemapID_dict:\n",
    "        fatemapID_dict[fatemapID_combo]=[cur_multiplet]\n",
    "        fatemapID_count_dict[fatemapID_combo]=1\n",
    "    else:\n",
    "        fatemapID_dict[fatemapID_combo].append(cur_multiplet)\n",
    "        fatemapID_count_dict[fatemapID_combo]+=1\n"
   ],
   "metadata": {
    "collapsed": false,
    "pycharm": {
     "name": "#%%\n"
    }
   }
  },
  {
   "cell_type": "code",
   "execution_count": 13,
   "outputs": [
    {
     "name": "stdout",
     "output_type": "stream",
     "text": [
      "True\n",
      "UMI cutoff: 3\n",
      "Count of salvaged cells: 2678\n",
      "Proportion of salvaged cells: 0.10449100628194623\n"
     ]
    }
   ],
   "source": [
    "two_barcode_singlets_count=0\n",
    "two_barcode_singlets=[]\n",
    "for key, value in fatemapID_count_dict.items():\n",
    "    if value>=2:\n",
    "        two_barcode_singlets_count+=value\n",
    "        two_barcode_singlets.extend(fatemapID_dict[key])\n",
    "        if(fatemapID_dict[key] in two_barcode_singlets):\n",
    "            print(fatemapID_dict[key])\n",
    "print(check_all_unique(two_barcode_singlets))\n",
    "print(\"UMI cutoff: {}\".format(umi_cutoff))\n",
    "print(\"Count of salvaged cells: {}\\nProportion of salvaged cells: {}\".format(two_barcode_singlets_count,\n",
    "             two_barcode_singlets_count/len(good_data[\"cellID\"].unique())))"
   ],
   "metadata": {
    "collapsed": false,
    "pycharm": {
     "name": "#%%\n"
    }
   }
  },
  {
   "cell_type": "code",
   "execution_count": 14,
   "outputs": [
    {
     "data": {
      "text/plain": "['AAACCCAAGCCGTTAT',\n 'ACATCGACATTCAGGT',\n 'AAAGAACAGGTTGCCC',\n 'AACAAAGCATTCCTAT',\n 'AATCGACCACAATTCG',\n 'ACCTACCTCTTCCTAA',\n 'ACTTTGTCAAATGATG',\n 'AGGGCTCTCTGTCCCA',\n 'ATGCCTCTCTACCAGA',\n 'CAGCCAGGTCTAATCG',\n 'CAGGCCACAACACGAG',\n 'CATCGCTGTACTGACT',\n 'CCAAGCGCAGCTCCTT',\n 'CCTAAGACAGACGATG',\n 'CGAGGCTTCCGTAGTA',\n 'CGAGTTATCAGTGATC',\n 'CGTAGTAAGACCTTTG',\n 'CTACGGGGTATAGGAT',\n 'CTCAGGGAGTAGACCG',\n 'CTCCTTTGTCGTGGAA',\n 'GAACGTTAGGACGCAT',\n 'GAAGAATTCTCGACCT',\n 'GACAGCCGTCCAACGC',\n 'GACCAATAGTCAGCGA',\n 'GATTGGTGTCCTTAAG',\n 'GATTGGTGTTGGACCC',\n 'GCTTGGGCACACCGAC',\n 'GCTTGGGCAGGGCTTC',\n 'GGAGGTACAAAGCAAT',\n 'GGGACTCCAGTGTGCC',\n 'GGGTCACTCCATGAGT',\n 'GGGTGTCCAAGTGATA',\n 'GTAGGAGCATACCATG',\n 'GTCATCCAGATTGTGA',\n 'GTCATTTGTCTACGAT',\n 'GTTACCCTCCCTCATG',\n 'TAGACCAGTGCCTTCT',\n 'TATACCTAGGTTCCAT',\n 'TCATATCTCCTATTTG',\n 'TCATTGTTCATTGCCC',\n 'TCATTTGCAGCGATTT',\n 'TCCACGTAGCAGCACA',\n 'TCCACGTAGGTATCTC',\n 'TCCTGCAAGCCTATCA',\n 'TCGAACATCAACCGAT',\n 'TCTGCCAGTATGAAGT',\n 'TGAACGTAGGTACAGC',\n 'TGAATGCTCGATTTCT',\n 'TGAGCGCGTCTAATCG',\n 'TGTAACGGTGTCATTG',\n 'TGTTACTTCATGTCAG',\n 'TTCAATCCAGAGGCTA',\n 'AAACGAACAAGGCAAC',\n 'AATTTCCTCGAAGCAG',\n 'AGACAAAAGATGAATC',\n 'AGGCTGCAGTGTACCT',\n 'CATAAGCGTAGTGTGG',\n 'GCATCTCAGCCAACCC',\n 'TCGGTCTAGCAGCCCT',\n 'TTTGGAGCAAGACAAT',\n 'AAAGGATAGATCGACG',\n 'AACCAACGTGCGAGTA',\n 'AACCTGACACACACTA',\n 'AAGTCGTTCTAATTCC',\n 'CTCAATTAGCGAGGAG',\n 'GATGAGGTCCTGGGAC',\n 'GTGTTCCAGACATACA',\n 'TATGTTCCACGTATAC',\n 'AGTGACTGTTGTACGT',\n 'AGTGTTGAGTATGACA',\n 'ATCACGATCAGCTTCC',\n 'CAGAGCCGTAACATAG',\n 'CCTTTGGCAAATGGAT',\n 'CCTTTGGCAGCTCCTT',\n 'CTAGACAAGTATTCCG',\n 'GAGTTACGTGACTAAA',\n 'GTAGTACTCTCGCCTA',\n 'GTGCAGCGTATTAAGG',\n 'TGGGTTATCTCGGGAC',\n 'AAAGTGAGTCACCCTT',\n 'GAGTGTTCAACCGCCA',\n 'GGGATGACACAATGAA',\n 'AAATGGATCCAACTAG',\n 'ATCGTCCCAACAGATA',\n 'CCTCCAAGTGCGTCGT',\n 'AAATGGATCCGTGCGA',\n 'AACCATGAGGCCACCT',\n 'AACAACCAGAGGTATT',\n 'ACTATGGTCGCTCATC',\n 'AGTGATCTCCTGTAAG',\n 'AGTGTTGAGAGAGGTA',\n 'CCCAACTGTTGCGGCT',\n 'CCTTTGGGTGCCGGTT',\n 'CTGCATCCAGACCCGT',\n 'CTTCCTTCACCACTGG',\n 'GTCCTCAGTAGGAGTC',\n 'AACAAGATCCATCTCG',\n 'CAACAGTCAGTCTCTC',\n 'GTAATGCCACCTGTCT',\n 'TCAAGTGAGGTGTGAC',\n 'AACAGGGTCCATCTAT',\n 'TATTGGGTCAATCAGC',\n 'AACCTGAGTTGCCGAC',\n 'AGGGCTCCAGAGGCTA',\n 'CATTCATTCTGAGAAA',\n 'CCACGTTTCTTTCGAT',\n 'GTTGCGGGTACAGAGC',\n 'TCATACTGTCTGATAC',\n 'AACCTTTAGGGAGTGG',\n 'AAGACAATCGGTAACT',\n 'ACAACCAAGGTGCAGT',\n 'ACATCGAAGAGGCCAT',\n 'ACGGGTCTCGCTCTAC',\n 'ACTTTGTCACAAGGTG',\n 'AGATGCTAGGTGCTTT',\n 'AGCGCCACACATGTTG',\n 'AGTAGCTTCGCTACGG',\n 'AGTCATGTCACCATGA',\n 'ATCCCTGCAGCACGAA',\n 'ATCCGTCGTCGTCATA',\n 'ATGGATCTCCTTCTGG',\n 'CAACAACGTTATTCTC',\n 'CAACGATCACTCCACT',\n 'CAATCGAAGTCTTCCC',\n 'CACGAATAGAGCCATG',\n 'CACGTGGCACAATGAA',\n 'CACGTGGTCAATCCAG',\n 'CACTAAGTCGACGTCG',\n 'CAGAGCCTCCCAGGCA',\n 'CATACAGGTTGCGGAA',\n 'CATAGACCAATTGAAG',\n 'CATCCACAGCCTCGTG',\n 'CATCCGTCACATAGCT',\n 'CATGGATTCTTCTCAA',\n 'CATGGTATCTCGAGTA',\n 'CATTCATTCATTGCTT',\n 'CCAATTTCACTTCCTG',\n 'CCACTTGGTACCTGTA',\n 'CCGGGTACACCTCAGG',\n 'CCTGTTGTCGCCTTGT',\n 'CGAATTGGTCTGTCCT',\n 'CGATGCGGTTATAGCC',\n 'CGATGGCGTGCCTACG',\n 'CGCAGGTAGCCTGCCA',\n 'CGCATAATCCGCGATG',\n 'CTACGGGAGAAGCCAC',\n 'CTGAATGCAATGACCT',\n 'CTGCCATAGTTGGAAT',\n 'CTTACCGAGATGGCGT',\n 'CTTACCGTCGGTGAAG',\n 'CTTGATTTCTCCAAGA',\n 'GAAGGGTTCTGCATAG',\n 'GACAGCCTCGAGAAAT',\n 'GACCAATTCCTACGAA',\n 'GACCCTTCACGACAGA',\n 'GACGTTATCATAGAGA',\n 'GACTGATTCCTGTTGC',\n 'GAGAAATGTGATCGTT',\n 'GATCATGAGCCTCATA',\n 'GATTGGTAGAGTCCGA',\n 'GCCAGGTTCACTTATC',\n 'GCCTGTTTCCTTGACC',\n 'GGAACCCAGCACTCCG',\n 'GGAGAACAGCATGCGA',\n 'GGGACTCCAAAGACGC',\n 'GGTCACGTCACAAGGG',\n 'GTCTGTCCATGAAAGT',\n 'GTCTGTCGTAAGTTAG',\n 'GTGTTAGGTCTGTCCT',\n 'GTTACCCGTGGTCCGT',\n 'GTTCGCTAGACATATG',\n 'TAACACGCACAGCATT',\n 'TAATTCCGTCGACGCT',\n 'TACCCGTTCAAGAGGC',\n 'TACGCTCAGGGTACGT',\n 'TACGGGCTCGACATAC',\n 'TAGATCGAGGATTTAG',\n 'TCCACGTCAAGAGAGA',\n 'TCCCAGTTCTTTCCGG',\n 'TCGAAGTCATTGCTTT',\n 'TCTTGCGTCACTGATG',\n 'TGACCCTAGCGGACAT',\n 'TGAGGTTGTAGGCAGT',\n 'TGATTTCTCCCGAGTG',\n 'TGCAGTACATGTCGTA',\n 'TGCATCCGTCTCAGAT',\n 'TGGTTAGTCGCCCAGA',\n 'TGTAAGCTCCATCTAT',\n 'TGTGATGAGATGACAT',\n 'TGTGCGGGTATACAGA',\n 'TGTTGAGTCATCCTGC',\n 'TGTTTGTGTTACGTAC',\n 'TTCATGTTCGCTATTT',\n 'TTGGGTATCCTGTACC',\n 'AACCTTTTCCTAGCTC',\n 'CGTTAGACACTAGGTT',\n 'AACGAAACAAATGGCG',\n 'AAACGAAGTACGCGTC',\n 'ACTGCAATCAAACCTG',\n 'AGCGTATTCCAAGCAT',\n 'ATAGAGAGTTACTCAG',\n 'ATAGAGATCGCCAATA',\n 'CATCGCTTCACTGCTC',\n 'CCTCAACCAGTCGGTC',\n 'CCTCTCCAGGGCAATC',\n 'CTCGAGGAGTGGCAGT',\n 'GCCGATGCAGCATCTA',\n 'GTCCACTTCTGCACCT',\n 'GTCGTTCCATGACTAC',\n 'TATCAGGGTGTATACC',\n 'TCACATTCATGGATCT',\n 'AAGACAAGTCATTCCC',\n 'GCCCAGATCTGCCTCA',\n 'ACGGGTCCACGGTGTC',\n 'AAGACTCGTTCGGACC',\n 'AACAACCAGTTACTCG',\n 'AAGACTCAGGCGTTAG',\n 'AGAGAATCATCCGAGC',\n 'CGACAGCCATCCCGTT',\n 'CTGAGGCAGCCTTGAT',\n 'GAAGGACCATCCTGTC',\n 'GGAGAACCAGCTATAC',\n 'TCAATTCCACTGCGTG',\n 'TTTGTTGTCCGTGGCA',\n 'AAGCATCAGGAACTAT',\n 'AGTCATGAGCTGTCCG',\n 'AAGCATCCAAGACCGA',\n 'CGATGCGGTGCCTATA',\n 'AAGGAATGTTCTCCCA',\n 'AGCGATTGTTGCTAGT',\n 'TGCAGATTCTAAGAAG',\n 'AAGTGAACACGTAACT',\n 'TTCGGTCCACCTCTAC',\n 'TTTGGAGAGAGCTGCA',\n 'CGTCCATTCGTTGTTT',\n 'CTGCCTACACTACCCT',\n 'AAGTGAAGTTAGTTCG',\n 'CTTTCGGAGTGTTCAC',\n 'AATCACGGTTAAACCC',\n 'CCTCCAATCACGATAC',\n 'GTTACCCAGAGAGGGC',\n 'GTCTTTACAGTCAGCC',\n 'AGTACTGCAATTTCTC',\n 'ATTACCTCAGGGTCTC',\n 'AATCGACCACTCAGAT',\n 'AGACTCAAGCATAGGC',\n 'TCAGCCTCACATAACC',\n 'AGGAATACAATCACGT',\n 'AATCGACTCATCGGGC',\n 'ACCTGTCGTTCTCACC',\n 'AGACAGGGTCTGTGGC',\n 'GTGATGTCAGAACGCA',\n 'TATATCCTCCTATGGA',\n 'GAGTCATCAGCGACAA',\n 'TTACTGTTCATCACTT',\n 'GCTTTCGAGGGAACAA',\n 'AATGACCGTTCTATCT',\n 'GATGGAGCAACTGAAA',\n 'AATGGCTAGTTACTCG',\n 'CAGATTGGTTTACGTG',\n 'CTTTCAAGTGTCCCTT',\n 'GTCAAGTAGAACGTGC',\n 'CGGAGAAAGTGCTACT',\n 'AATGGCTGTATCGTAC',\n 'ACTGTGACAGCTGGTC',\n 'CAACGATCATAGAGGC',\n 'CATGCCTGTACTCGAT',\n 'CCTTCAGGTCAAAGCG',\n 'CTCCCTCGTACTTGTG',\n 'CTGGCAGCATATCTCT',\n 'CTTTCGGGTGATTGGG',\n 'GACCAATTCTCACGAA',\n 'GACCTTCAGAGAACCC',\n 'GGAGAACCAGTTCACA',\n 'GGATGTTTCTACTCAT',\n 'GTAATGCTCAAATAGG',\n 'GTAGTACTCATCTATC',\n 'GTCTGTCGTTGGGTAG',\n 'GTGTTAGGTACAAGTA',\n 'TGAGGGAGTGAGCGAT',\n 'ACACGCGTCGGACTGC',\n 'ACGTAGTAGTTTGTCG',\n 'ACTTTGTGTGTGAATA',\n 'AGGACTTCAGTAGTTC',\n 'AGGTCATGTAAGTTGA',\n 'ATACTTCTCGAACTCA',\n 'ATGCCTCAGGATATAC',\n 'CAGCAATTCCGTAGTA',\n 'CAGGCCATCCGCAACG',\n 'CAGGGCTTCGAAGTGG',\n 'CATCAAGCAAAGGATT',\n 'CCATCACAGGGAGGAC',\n 'CCTACGTTCAAGCCTA',\n 'CGGCAGTTCGGTCTAA',\n 'CTTCCGATCGAAGTGG',\n 'GACTCTCTCGTTCTCG',\n 'GATTCTTGTGAGCCAA',\n 'GCAGTTAGTCACTAGT',\n 'GCTTCACGTGCGGCTT',\n 'GGGTAGATCGACGACC',\n 'GTCAGCGCAAAGTGTA',\n 'GTGAGGAAGGGATCAC',\n 'GTGGCGTAGCTCACTA',\n 'GTTCTATGTTCGAGCC',\n 'GTTGCGGCAATTGCAC',\n 'TAATCTCCACCTGAAT',\n 'TACGGTACAGCTTCCT',\n 'TACTTGTGTCCTACGG',\n 'TCGGGCATCACAAGAA',\n 'TGCAGATGTAGCTGCC',\n 'ACATTTCCACCAAAGG',\n 'TCACATTGTTGCTCAA',\n 'AATGGCTGTGGGCTCT',\n 'CACAGATGTGAATTAG',\n 'CGGGTGTTCTGTTCAT',\n 'GTGTAACCAACTCGAT',\n 'TACTTGTTCGATCCCT',\n 'ACACGCGAGAGAGCGG',\n 'GGTAACTCATTCTTCA',\n 'TGACGCGAGTAAATGC',\n 'TGCTTGCCACCCAACG',\n 'ACAGCCGTCCTGGCTT',\n 'AGGATCTTCTCTATAC',\n 'ATCCACCGTTTAGACC',\n 'ATTATCCAGCGCCCAT',\n 'CACTGTCAGGTACATA',\n 'CTTCCTTAGCGTCAGA',\n 'CTTCCTTTCGCTATTT',\n 'GAAGGGTGTCATCACA',\n 'GCTGCAGAGGTTTACC',\n 'GGAGGTAGTGTAACGG',\n 'GTCAAACAGCACCTGC',\n 'GTCCTCAGTCCTGTTC',\n 'TAATCTCGTCATGACT',\n 'TCAGTGACATGAGAAT',\n 'TCATGGAAGTGTAGTA',\n 'TCCTAATGTGTCCTAA',\n 'TGATTTCGTGGTACAG',\n 'TGTGCGGGTAAGGTCG',\n 'TTCGCTGCATAGACTC',\n 'TTCGGTCTCCTTCACG',\n 'ACAGCCGTCGCGTAGC',\n 'ATTGTTCCAACTCATG',\n 'ACAGGGAGTGGACAGT',\n 'GTGCGTGGTACTGCGC',\n 'TTCGGTCTCATCACTT',\n 'ACATCGACACTGAGGA',\n 'ACCGTTCTCGTGGGAA',\n 'ACATGCACACCTGCTT',\n 'CCTCAGTGTCCAGAAG',\n 'CTTCAATAGCTCCATA',\n 'TGCGATAGTTGGAGGT',\n 'TGTAGACCAACGGTAG',\n 'ACCAACAAGGGTACGT',\n 'CACATGACAAGTCCAT',\n 'ACCATTTGTCGTCTCT',\n 'TAATTCCCAGTCCGTG',\n 'ACCCAAATCACTGGGC',\n 'CACTGAACAGTCACGC',\n 'CTCGAGGAGCATCAGG',\n 'TTCACGCTCTCTGGTC',\n 'ACCTGAACACAGTACT',\n 'TTCTAGTGTTTCGACA',\n 'ACCTGAATCTATACGG',\n 'GTAACCAGTCAATGGG',\n 'ACGCACGGTGCGACAA',\n 'CATCAAGAGCTCCCTT',\n 'GAGACCCGTGTTTGCA',\n 'ACGTAACCACAACCGC',\n 'AGCGCCAAGTAACAGT',\n 'ACGTCCTTCGAAATCC',\n 'CTGCCTACAGTGTATC',\n 'GAGCCTGTCATTGAGC',\n 'GCCAGGTCAGGTATGG',\n 'GCTACAACACGCGTGT',\n 'GTGTCCTTCTTCTAAC',\n 'ACTACGAAGACCAGAC',\n 'TGAGGTTCACCGTGAC',\n 'ACTATGGGTCTTCTAT',\n 'AGGGTTTGTTTATGCG',\n 'GTAGGAGTCTGCGGAC',\n 'ACTCTCGCAGCGTTTA',\n 'AGCTACAAGAACGTGC',\n 'ACTTCCGAGTGCAGCA',\n 'GGACGTCGTGAGATTA',\n 'ACTTCGCGTAGCGTTT',\n 'CGGGTGTAGTCATAGA',\n 'CTGTACCGTTTACGAC',\n 'ACTTCGCTCTCCATAT',\n 'GCGGAAAGTTGCTCGG',\n 'AGAACAATCCGGACGT',\n 'CACGAATTCTTGCGCT',\n 'CTACAGAGTCCAACGC',\n 'GTACAACCAGAGAATT',\n 'AGAAGCGCAAGATCCT',\n 'GCGGATCTCCTACGAA',\n 'AGAAGTATCCAACTAG',\n 'TGAGCATTCGAGCCAC',\n 'AGACAGGAGCCTGTGC',\n 'ATTCACTGTCATCCGG',\n 'AGACCATGTATCGCAT',\n 'CATACCCAGCCTTTGA',\n 'AGCATCAAGAGGTTAT',\n 'TCAAGTGGTCGGAACA',\n 'TCCTCTTAGAGCACTG',\n 'TTCCTTCCACCTAAAC',\n 'AGCCAATAGTACCATC',\n 'ATACTTCTCCAAATGC',\n 'CACTGTCGTCGGAAAC',\n 'CCTTCAGAGTTTGAGA',\n 'AGCGATTGTAGCGAGT',\n 'GTAACACGTCTGTCCT',\n 'AGCGCCAAGCACTCGC',\n 'GAGCCTGTCGCAATGT',\n 'AGCGCTGTCCCGAGTG',\n 'GGAGAACGTAGGCAGT',\n 'AGGAATAAGGTGATAT',\n 'AGGACTTCACCTGATA',\n 'AGGATAACATCGGAAG',\n 'CATTTCAAGTAACCGG',\n 'CCTCCTCCAAATAAGC',\n 'GCCATTCGTTCCGTTC',\n 'GTGTCCTCAGAATGTA',\n 'AGGAGGTCACTTCTCG',\n 'ATCGGATGTTCCTAAG',\n 'AGGATAAGTGAGTTGG',\n 'AGGGAGTGTTGTGGAG',\n 'CAACGATCACAGAGCA',\n 'CTCCAACCAATCCTTT',\n 'GAAGGACTCCACGGAC',\n 'GACAGCCTCACCGGTG',\n 'GCACATAGTGCGGATA',\n 'GGGCCATTCATTGTGG',\n 'GGGTAGACAGCTGAGA',\n 'GTCCACTGTCCCTGAG',\n 'GTGAGTTCATCCTTGC',\n 'TATCTGTAGTGCAGCA',\n 'TCCGTGTTCAATGCAC',\n 'TGAGCGCCAAGTGTCT',\n 'AGGCCACCACGGCTAC',\n 'GACTGATAGCATGATA',\n 'AGGGCCTTCTTGGATG',\n 'GAAGGGTTCAGCTTGA',\n 'TTGATGGGTACAGTCT',\n 'AGGGCTCCACCTCTAC',\n 'GAGCTGCGTCCCGGTA',\n 'AGGGTTTCATTCGATG',\n 'CAACCTCAGCGGACAT',\n 'AGTAACCGTGGCTTAT',\n 'TCGATTTCACTGCGTG',\n 'AGTAACCTCGGTCATA',\n 'TTTCAGTAGTGCGTCC',\n 'AGTAGCTGTACGCGTC',\n 'CCCTGATAGATGAAGG',\n 'TGAATCGAGTGGTGGT',\n 'AGTAGTCTCGTCGGGT',\n 'CGCAGGTCACGACCTG',\n 'TACTTCATCCCGAAAT',\n 'AGTTAGCTCCATTGCC',\n 'GTCATTTGTCGCGTCA',\n 'ATACCGACATCTGTTT',\n 'ATCGATGCACTCTCGT',\n 'CTGAGGCTCGCATTGA',\n 'ATAGGCTAGTGAGGTC',\n 'CTCCCTCCAAACTAAG',\n 'ATATCCTCATCATCCC',\n 'GTCTCACGTGCCGTTG',\n 'GTGTGGCGTGTTCGTA',\n 'ATCGGCGGTATCGGTT',\n 'CAATACGTCTGAACGT',\n 'ATCGTAGCAGACCTAT',\n 'CATACTTAGGGTACAC',\n 'ATCTCTATCAGGGTAG',\n 'CAACAGTGTCGCTTAA',\n 'ATGACCATCCTTCTAA',\n 'GTATTTCTCGCTTTAT',\n 'GTCCTCACATTGAAAG',\n 'TCCCAGTCAGATAAAC',\n 'ACTTCCGAGTCACAGG',\n 'GAGAAATTCTCGTCAC',\n 'GTCATTTTCTCTAGGA',\n 'TCAAGACGTTCCCACT',\n 'TCATGAGAGGGTATAT',\n 'ATGGAGGAGTGCCAGA',\n 'CAATGACTCTTTCCAA',\n 'TGTAACGGTGCAGTGA',\n 'ATGGATCAGGATGCGT',\n 'TTGTTGTGTACGTGTT',\n 'ATGTCCCGTCTGTCCT',\n 'CTCAGGGAGGCCTAGA',\n 'ATTACCTGTCTAACTG',\n 'TGGGATTCACCTCGTT',\n 'ATTATCCGTACGAAAT',\n 'GGGCTACTCCGTGGTG',\n 'ATTCAGGAGAATCCCT',\n 'GGCACGTCACTAACGT',\n 'ATTGTTCAGCGATGGT',\n 'CAGCCAGAGATAGTCA',\n 'GATGAGGCAAGACGAC',\n 'GTAGGTTCACAGTGAG',\n 'CAAAGAACAGAACTAA',\n 'CCTCCTCGTCTCCCTA',\n 'CAACAACTCTACTATC',\n 'GGGAGATTCCACACAA',\n 'CAACAACTCTGTAAGC',\n 'TTGTGGACACAGTGTT',\n 'CAACCTCGTGTTTGCA',\n 'CATAGACCACCCTTGT',\n 'CAACGGCGTTACACAC',\n 'CCACGAGGTACATACC',\n 'TGTGTGAAGCAGCCCT',\n 'CAAGAGGGTCACTAGT',\n 'CACATGATCACATCAG',\n 'CAGATTGGTGCGTTTA',\n 'CCCATTGCATAGGCGA',\n 'CCCTAACGTTAGCTAC',\n 'CCGGTGACACTAACGT',\n 'CCGTTCAGTCAAAGCG',\n 'CCTCACAAGCCTCTGG',\n 'CCTTTGGTCATATGGC',\n 'CGAGAAGCACTACCCT',\n 'CGAGGAAGTACCAATC',\n 'CGGCAGTGTTGTCATG',\n 'CGTAATGAGCCTTCTC',\n 'CGTGATAGTAGTGTGG',\n 'CTGAATGTCTACGCAA',\n 'CTGGACGCATCTCGTC',\n 'CTGTGGGGTACGTGAG',\n 'TACCCGTGTCAGTCGC',\n 'TCGACGGTCAAGTGTC',\n 'TGAATCGCACTTACAG',\n 'TGAGGAGAGAGCCATG',\n 'TGCCGAGGTGATTAGA',\n 'TGGATCATCGTTACCC',\n 'TGTGATGCAGTGCGCT',\n 'TGTTGAGCATGTCTAG',\n 'TTACTGTAGACTCAAA',\n 'TTTACTGTCGAATCCA',\n 'TTTAGTCGTTCCAAAC',\n 'CAATTTCTCTGTGCAA',\n 'TGATGCACACATTACG',\n 'CACATGACATTGACCA',\n 'GATGTTGAGGGCAACT',\n 'CACATGAGTCGGCACT',\n 'GTGAGTTCATTGAAAG',\n 'TCCAGAAGTGCGGATA',\n 'TCCTCGATCGCTACAA',\n 'TGAATCGAGTTAGTAG',\n 'TGGTGATTCGGCCTTT',\n 'TTCCACGAGGGATGTC',\n 'ATAGACCAGGCAGTCA',\n 'CACGGGTCAGAGTCTT',\n 'CATCGTCTCTTGCAAG',\n 'CACGGGTGTCACTACA',\n 'CCGGTAGAGACAACAT',\n 'TCTCAGCGTCCTGGGT',\n 'CAGATCAGTAGGAAAG',\n 'CCCAACTTCGTTACCC',\n 'CCGCAAGGTTGGCTAT',\n 'CCGGTGAGTAATCAAG',\n 'GTTCGCTCACGCTATA',\n 'TAAGCGTCAGAGTCAG',\n 'TCCTTTCGTATGAAAC',\n 'TCGGATACAAGACGAC',\n 'TGACGCGTCCCATAGA',\n 'TGATCAGTCCATTGCC',\n 'CAATTTCTCCGATTAG',\n 'CATAAGCTCGGAACTT',\n 'CCGGTAGAGTGGTTCT',\n 'CCGGTGATCTGTAACG',\n 'CGATGCGGTGGGCTTC',\n 'CTCAAGATCGGCTTGG',\n 'CTGAGCGAGTGGTGAC',\n 'TATCTTGGTGTGAGCA',\n 'CAGCCAGGTTCGGTTA',\n 'CATACTTAGGTGCTGA',\n 'CATAAGCAGGGAACAA',\n 'GGGACTCCACGCTGAC',\n 'CATAAGCAGTCACGAG',\n 'CATACAGGTGTGTTTG',\n 'CATAAGCTCGGATACT',\n 'CTTACCGCAGATTCGT',\n 'CATACCCTCTCCGATC',\n 'GATGAGGAGATGCAGC',\n 'CATCAAGGTGCCGAAA',\n 'CGAGGCTTCCAAGCTA',\n 'CGCCATTTCCCGAATA',\n 'CGCGTGAGTTCGAACT',\n 'CGTTAGAAGGGATCAC',\n 'TGCGGCAGTATGAGCG',\n 'TGTAGACCACGGTCTG',\n 'TGTGATGTCGAACACT',\n 'TTTCAGTTCGTAGCCG',\n 'CATGCGGTCGTAGTGT',\n 'CTTAGGATCTATCACT',\n 'TCGTGCTTCAGTGTCA',\n 'CATGCTCTCGGTTAGT',\n 'CATGGTACAACTGTGT',\n 'TCAGGTATCTATACGG',\n 'CATTGTTGTGGCGTAA',\n 'CCGTGAGCATCGATGT',\n 'CGAGAAGGTCTCTCTG',\n 'GATGTTGCACTTCTCG',\n 'GGTCTGGGTCAATCTG',\n 'TCGCTCAGTGAGCAGT',\n 'TGAGGAGGTTTCGATG',\n 'TGATTCTTCTGCTGAA',\n 'TTCCAATAGAAATTGC',\n 'TTGTTTGTCTGACGCG',\n 'CCGGGTAGTATGGAAT',\n 'TGGGAGAAGTCGAATA',\n 'CATTTCAAGGAGATAG',\n 'CTGTGAAAGGGACAGG',\n 'GAGCCTGTCGCCATAA',\n 'CCCTCAAGTCACGTGC',\n 'TCGTGGGGTCACGTGC',\n 'CCCTCAATCATTTGTC',\n 'TACAACGAGTGATAAC',\n 'CCGATCTGTTTGAACC',\n 'CTACGGGCAAGTGCTT',\n 'TTATTGCGTTGCTTGA',\n 'CAGGGCTAGCACTTTG',\n 'CTCCCAATCGAGATAA',\n 'TAGGTACGTTGAAGTA',\n 'CCGGACAAGCCGATCC',\n 'CGAGGCTCAGAGAAAG',\n 'CCGGGTATCCATACAG',\n 'ATCGGCGCACTACCCT',\n 'CCGGTAGCAGGTAGTG',\n 'GTGTTAGCAGTGAGCA',\n 'CCGGTAGGTAACATCC',\n 'TGTTCCGTCGAAATCC',\n 'CCGGTGACAGGACATG',\n 'TCACGCTAGGTACAAT',\n 'CCGTGAGGTATGAGAT',\n 'CCCGAAGAGGACTAAT',\n 'CCTCTCCTCCTTGACC',\n 'TGAGGTTGTTCCGCTT',\n 'CCTCTAGTCCGGTAGC',\n 'TGAATCGCAACTCCAA',\n 'CGAATTGAGTGGAATT',\n 'TGTTCATGTTTCAGAC',\n 'CGAATTGCAAGTCATC',\n 'CTCAACCGTATAGGGC',\n 'CGAATTGTCATAGCAC',\n 'TGCAGATTCTGTGCTC',\n 'CGACAGCCAACAGCTT',\n 'CGGACACAGTCCTGCG',\n 'CGGGACTCACTTTAGG',\n 'TTCTTCCTCGGCTCTT',\n 'CGACAGCCAACTTCTT',\n 'GGAGATGCATGATAGA',\n 'TATCGCCGTCATGGCC',\n 'TCTCACGGTCATGGCC',\n 'CGAGAAGCATCGAGCC',\n 'CGTTGGGCATCCTTCG',\n 'TATTCCATCCATCTAT',\n 'TCCGAAAAGTTCGGTT',\n 'CGAGTTATCACCTGTC',\n 'CTAGACACAGAGGTAC',\n 'CGCATAAGTACTCGTA',\n 'TTGAACGCAAATCGGG',\n 'CGGAACCCAATTGGTC',\n 'GCCAGTGGTATCGCAT',\n 'TTGCCTGGTAGTTCCA',\n 'CGGGACTTCTTGAACG',\n 'CTGATCCTCTGTTCAT',\n 'CTGCATCCATCGGCCA',\n 'TATCGCCGTACAGTAA',\n 'TGCAGTACAAGAGCTG',\n 'TGGGAAGTCGTTGTGA',\n 'TGTCCCATCATCACTT',\n 'TGTTGGAAGGCATCTT',\n 'TTCCACGCAAAGCAAT',\n 'TTTGGTTTCGGTCTAA',\n 'CGTAAGTGTTACAGCT',\n 'TCGACCTGTTAGGCTT',\n 'CGTAAGTTCAAGTCGT',\n 'TCATATCGTACAGTAA',\n 'TCATTTGTCTTAGGAC',\n 'TTTAGTCGTTTGGGAG',\n 'CGTGAATGTTCTTCAT',\n 'GCCATTCCAACTCATG',\n 'CGTGTCTGTTCCACGG',\n 'TTTCAGTGTACAGGTG',\n 'CGTTCTGGTCGTCATA',\n 'TGATTTCTCACTCGAA',\n 'TGGTACAGTAACAAGT',\n 'CTACTATTCCGATCTC',\n 'GAAGTAAAGCGATCGA',\n 'CTATCTATCGCCACTT',\n 'TTCTTGAGTGCGGTAA',\n 'CTCATCGCATCGTGGC',\n 'TAGAGTCAGAGATCGC',\n 'CTCATGCTCGCATAGT',\n 'TTAGTCTCAAGTCCAT',\n 'CTCGAGGTCTCGGCTT',\n 'GACATCAAGCCTCAGC',\n 'TCCTTTCGTTGCTGAT',\n 'CTCTCGACAAGCGATG',\n 'GAGAGGTAGTTGGGAC',\n 'GGGTGTCCAATTGCTG',\n 'TATTCCACACCGAATT',\n 'TTCCTCTGTCGTTTCC',\n 'ACTCCCAGTTGTGCCG',\n 'AGTCAACCATCCGCGA',\n 'ATGTCTTTCATACAGC',\n 'CAACAACGTTTCGGCG',\n 'CTCAGAAGTCGTCAGC',\n 'GACGCTGTCGCCGTGA',\n 'GCATTAGTCTTCGGAA',\n 'GCTGAATTCCATTTGT',\n 'TACACCCCACCCTGTT',\n 'TGCGGGTCAACTCCCT',\n 'TGTCCCAGTTAAGGGC',\n 'CTGAATGGTTCCAAAC',\n 'TGTTTGTAGAACTTCC',\n 'CTGAGGCCAAGTGATA',\n 'CGAAGGATCGACTCCT',\n 'TTGCCTGCATGAATCC',\n 'CTGATCCAGAGTAACT',\n 'GGCTGTGTCCCTCAAC',\n 'CTGCTCAAGCGTCAAG',\n 'TCAGGTAGTATCGAGG',\n 'TTAGGCAGTGAATTAG',\n 'TTCGATTAGTGGAAAG',\n 'CTCTCAGGTTAGGCTT',\n 'TCCTCTTAGGCTCTAT',\n 'TGACAGTGTTGGGACA',\n 'CTGTGGGTCTGGTTGA',\n 'TCTGCCAAGTCCGCCA',\n 'CTTGAGACAAGGGTCA',\n 'TTGGTTTCAGACCAGA',\n 'CTTGATTGTGGTCTGC',\n 'GGTCTGGAGTTGTACC',\n 'CTTGATTTCGTTGTAG',\n 'TATACCTCACCAGCCA',\n 'GAAGCGAGTCTACGTA',\n 'TTTCACACACGCCACA',\n 'GACTCTCGTTCAGCTA',\n 'TCATCCGCAAGATGGC',\n 'GACTGATGTATCCCTC',\n 'GTTATGGAGATTGATG',\n 'GAGGGATAGCTGGCCT',\n 'GGTCACGAGACGCAGT',\n 'GATCACACAAGAAACT',\n 'TAAGCCACATTGCCTC',\n 'GATCATGGTGAATGTA',\n 'TATTCCATCACGTAGT',\n 'GATCCCTGTGGTCCGT',\n 'TCTACCGGTTTGACAC',\n 'GGAATCTGTAGGACTG',\n 'GATGGAGAGGTCTGGA',\n 'ATACCTTGTCAAAGCG',\n 'GCAACATTCACTTGTT',\n 'TGACTCCCATGGGTTT',\n 'GCAGCTGTCAGACATC',\n 'TGCGGCAAGATAACGT',\n 'GCCAGGTAGTCTTGGT',\n 'AGGGCCTCAGTAACCT',\n 'GCCGATGAGCGCCTCA',\n 'TGGGAGAAGCTGCCTG',\n 'GCTGCAGCACTAACGT',\n 'TTAGTCTAGTGAGGTC',\n 'GCTTTCGAGTAAAGCT',\n 'TCACTATGTTCGTGCG',\n 'GGATCTATCGTGCTCT',\n 'GTGGGAAAGCACTGGA',\n 'GGGAGATTCATTCTTG',\n 'CCTCAGTCACCAAATC',\n 'GGGTGAACATAGATGA',\n 'TCTTGCGAGATACAGT',\n 'GGTAATCTCTCAGGCG',\n 'TGCAGATGTAGCTTGT',\n 'GTGACGCAGCTTCATG',\n 'CAACCAAGTCTGATCA',\n 'GTGAGGAAGGTGCTTT',\n 'TATCTTGAGTCAACAA',\n 'GTGAGTTTCTCTCGAC',\n 'TCATGGATCATTACTC',\n 'GTTATGGCATGACGTT',\n 'TAGACCAAGCTCGGCT',\n 'GTTATGGGTTACACAC',\n 'GCGGATCAGACGAAGA',\n 'GTTGAACCAGAGAGGG',\n 'TTGGATGCATGGCGCT',\n 'GTTGCGGGTCATCACA',\n 'TACACCCTCCACACAA',\n 'GTTTGGACAAATGAAC',\n 'TTAGTCTGTGGTCTGC',\n 'GAAATGACATTATGCG',\n 'AAAGGGCGTATCTTCT',\n 'ACCATTTGTTTGAAAG',\n 'ACGGTTATCGATGGAG',\n 'CCGGTAGCAGTCGCAC',\n 'CCTCAGTTCACAATGC',\n 'GATTCTTTCTAGTACG',\n 'GGGTCTGCAACGACAG',\n 'GTTGTCCTCTTCCCGA',\n 'TATCAGGGTGATATAG',\n 'TCCTAATCAAATCCCA',\n 'GTTTGGAGTAGCTGAG',\n 'GAGAGGTAGTCTTGGT',\n 'GTTGTGAGTTTACTTC',\n 'TAAGTCGAGGTCACAG',\n 'TCTCCGAGTCCCACGA',\n 'TACGCTCTCACTCGAA',\n 'TGGTGATTCCGAAGGA',\n 'TAGCACATCCATTGCC',\n 'TCACTCGCAGGACAGT',\n 'TCAGCAAAGGTATAGT',\n 'TCGCACTAGTCTACCA',\n 'TCATGTTCACTAGTAC',\n 'TGTCCACCAGCAGTTT',\n 'TCGCTCAAGCCTCATA',\n 'TGTGAGTGTGGATACG',\n 'TCGGGACCAGGTATGG',\n 'TCTCCGAAGGGTACAC',\n 'TCGGTCTTCGTTGTTT',\n 'CCGGTAGTCCGAGAAG',\n 'TCTATACGTTCTGACA',\n 'CGATGGCAGTGTTCCA',\n 'TCTCACGAGTCGAAAT',\n 'TGGGAAGGTGTCGATT',\n 'TCTCTGGAGCTGTGCC',\n 'ACCAACATCCACTAGA',\n 'CGCATAACAGACCCGT',\n 'CGGTCAGAGAGCAGTC',\n 'TCTAACTAGATTAGCA',\n 'TGAGGTTTCTACCCAC',\n 'TGTTACTGTAGCTAAA',\n 'TTGTGGATCGCCAACG',\n 'TGATCAGTCGTTGTAG',\n 'TTCTTCCTCATGTCAG',\n 'TGCACGGCACATAGCT',\n 'CGCAGGTCACTTGACA',\n 'TGCAGATGTCTGTCCT',\n 'TTCACCGTCGAGAGAC',\n 'TTTCATGCAGTTAGGG',\n 'TGGATGTCATGGGAAC',\n 'GCCATTCAGAACAAGG',\n 'TCTTGCGGTTGCGGCT',\n 'TGGGATTAGCGGGTTA',\n 'TTACGCCAGGTAATCA',\n 'CTGTGAAAGACATACA',\n 'TGTTCATCAACTGTGT',\n 'TGTAAGCTCGCAATGT',\n 'CTCCCTCAGTAACCTC',\n 'TGTGATGGTAGCGATG',\n 'GGCTTTCGTCCACTTC',\n 'TTCCGTGGTGGGCTTC',\n 'TTGCGTCTCAAAGGAT',\n 'TTGTGGACATTAGGAA',\n 'TTTCAGTCATACTTTC',\n 'AACAAAGCAATACCTG',\n 'ATCGCCTGTCAAGTTC',\n 'GTAGAAAGTGAGACGT',\n 'GTGGTTAGTATCCTCC',\n 'TATTGGGTCAAAGAAC',\n 'TTGGGTAAGGCCACTC',\n 'AACACACCAAATCCCA',\n 'ACTGTGAGTACCATAC',\n 'ATTACCTGTTCACCGG',\n 'CAGCAATGTGTTAACC',\n 'CATTGCCTCTGAGAGG',\n 'GGGTCACGTGAGAGGG',\n 'GGGTTTATCATTCCTA',\n 'TCAAGTGAGCAGGTCA',\n 'TCTATACGTCTTGCGG',\n 'TCTGGCTAGACGCCAA',\n 'AACCAACAGTATTAGG',\n 'AGGTTGTTCATAGACC',\n 'AACTTCTGTCGAACAG',\n 'CATCGTCTCTGGTTGA',\n 'CGTTCTGCAGGCGATA',\n 'CTACGGGCAAGACCTT',\n 'AAGACAAAGCCACAAG',\n 'AAGGTAATCAGACCGC',\n 'AAGTCGTTCACTGAAC',\n 'ACCCTTGTCGCCAACG',\n 'ACGTACAGTCTTTATC',\n 'ACTACGAGTAGCGTTT',\n 'ACTTCGCAGATCGACG',\n 'AGCGCTGGTGTCTTAG',\n 'AGCGTCGGTTAAACCC',\n 'ATCTTCAAGCATGAAT',\n 'CAACAACAGACTGTTC',\n 'CAGGGCTCAGAGACTG',\n 'CATCGCTAGCTGAAAT',\n 'CATTGTTCATGTTCAG',\n 'CGATGCGGTATGCGGA',\n 'CGGGCATCAAATAAGC',\n 'CTAACTTGTGTGAATA',\n 'CTAGGTAAGTAGAATC',\n 'CTCCGATGTCAAAGAT',\n 'CTGAATGCACTCGATA',\n 'CTGGTCTGTTGTTGAC',\n 'GACCCTTTCCCAACTC',\n 'GATAGCTAGTGCTCAT',\n 'GCAGCTGGTGAGATAT',\n 'GCTACAAGTACACTCA',\n 'GTAGATCTCATACAGC',\n 'GTGAGCCTCGGACTTA',\n 'TCAGGTACACCAGCGT',\n 'TCTAACTGTCGCATTA',\n 'TGAGTCACATAGACTC',\n 'TTAGGCACAAATGAGT',\n 'TTTCAGTCACGGGTAA',\n 'AAGACAAAGGACTTCT',\n 'CGGAACCAGGTATCTC',\n 'GTAGAAAGTCAAAGTA',\n 'GTCACGGGTGATACCT',\n 'AAGCCATCAGCTGCCA',\n 'AGGATAAAGACCAGAC',\n 'CACAGGCGTGCCTATA',\n 'CAGAGCCCACGAGAAC',\n 'CATGCTCTCCGAGAAG',\n 'CCCTGATGTACGACAG',\n 'TAGGAGGTCTTTGATC',\n 'TCCATCGGTAGACAGC',\n 'TCCTGCAGTGCTGCAC',\n 'TCGGGACTCAAGTCTG',\n 'AAGCGTTAGTTTCAGC',\n 'TCCGAAACAAACGGCA',\n 'AAGGTAACACCAGACC',\n 'ACCACAATCCCATAGA',\n 'CTCCTTTTCACAACCA',\n 'AAGTTCGCACAAGCTT',\n 'GAGTTACAGCGGGTAT',\n 'AATAGAGAGAGGTTAT',\n 'AGCATCAGTGACGTCC',\n 'AGTTCGAAGGTAGATT',\n 'GCGAGAATCGCGTGCA',\n 'AATAGAGTCTTCTTCC',\n 'CATGCTCAGCTTGTGT',\n 'CATGCTCTCATATGGC',\n 'TCAGGTATCATAGCAC',\n 'TTTAGTCCATTGAAGA',\n 'AATCGTGCATCCTGTC',\n 'AGCTCAATCGGCGATC',\n 'GTTATGGAGCATGCGA',\n 'AATGAAGTCTTTCGAT',\n 'AGATGAAAGAGAATCT',\n 'AATTCCTAGAGCATCG',\n 'TGTAGACCAACAGTGG',\n 'ACAAGCTCATATGGCT',\n 'CCTCATGGTGTTAACC',\n 'ACAAGCTCATCGCCTT',\n 'TGCTCCAAGGCGACAT',\n 'ACACGCGAGCTCACTA',\n 'ATGGAGGTCCGATAGT',\n 'GGTAATCCACCGGCTA',\n 'GTTCATTGTTTAGAGA',\n 'GTTCGCTCAGAGTTGG',\n 'CATGCGGAGTAGGCCA',\n 'ACACGCGGTACTAACC',\n 'TCCTAATAGATGATTG',\n 'ACACGCGGTTGTGCAT',\n 'CTACAGAGTCTGTAAC',\n 'ACAGCCGGTGGCACTC',\n 'GCACGTGCACGTATAC',\n 'TAAGTCGCAATCAAGA',\n 'ACATCCCCATCAACCA',\n 'AGAGCCCTCGAGAAGC',\n 'TCATGTTGTCACATTG',\n 'ACATCCCCATTAGGCT',\n 'TCCGTGTCACACCTGG',\n 'ACCAAACGTCATTCCC',\n 'TGAATCGGTGACCGAA',\n 'ACCCTTGGTCACTACA',\n 'GGTCTGGTCAGGGATG',\n 'TGTGTGAAGGTCCCTG',\n 'ACGATCAAGGTCTACT',\n 'ATCCACCTCCCATTCG',\n 'GTGTTCCCAGGGTCTC',\n 'TGTGGCGCAGTTGTTG',\n 'ACGATGTAGGTCATAA',\n 'CGCATAAGTGAGACCA',\n 'ACGGGTCTCTCGGTAA',\n 'TGTTGAGGTATGCAAA',\n 'ACTATCTAGCGTCAGA',\n 'AATCGACGTGGCTTAT',\n 'ACTGATGCACGACAAG',\n 'CCTCAACAGCCAAGGT',\n 'TGCGGGTCAACAAGTA',\n 'ACTGTCCGTCCGATCG',\n 'TCGCAGGCAGAGCTAG',\n 'ACTTATCAGCTCCACG',\n 'CTGCCTATCATCGTAG',\n 'GTACAGTTCTAGAACC',\n 'TGCATGACAAATTGGA',\n 'TTTCCTCCACTACCCT',\n 'ACTTATCGTGGTACAG',\n 'GACAGCCAGGTAGGCT',\n 'AGAACAATCGCCACTT',\n 'CAATACGTCTGGTCAA',\n 'CGTGATATCTTTGCGC',\n 'AGAGAATAGCCATCCG',\n 'CCTACGTTCGCTTTAT',\n 'TTCCAATGTATTGACC',\n ...]"
     },
     "execution_count": 14,
     "metadata": {},
     "output_type": "execute_result"
    }
   ],
   "source": [
    "two_barcode_singlets"
   ],
   "metadata": {
    "collapsed": false,
    "pycharm": {
     "name": "#%%\n"
    }
   }
  },
  {
   "cell_type": "code",
   "execution_count": 105,
   "outputs": [],
   "source": [
    "singlets_step2=list(set(singlets).union(set(two_barcode_singlets)))\n",
    "multiplets_step2=list(set(multiplets).difference(set(two_barcode_singlets)))"
   ],
   "metadata": {
    "collapsed": false,
    "pycharm": {
     "name": "#%%\n"
    }
   }
  },
  {
   "cell_type": "code",
   "execution_count": 106,
   "outputs": [
    {
     "name": "stdout",
     "output_type": "stream",
     "text": [
      "Total Singlets: 20048\n",
      "Total Multiplets: 5522\n"
     ]
    }
   ],
   "source": [
    "print(\"Total Singlets: {}\\nTotal Multiplets: {}\".format(len(singlets_step2),len(multiplets_step2)))"
   ],
   "metadata": {
    "collapsed": false,
    "pycharm": {
     "name": "#%%\n"
    }
   }
  },
  {
   "cell_type": "code",
   "execution_count": 107,
   "outputs": [],
   "source": [
    "UMI_thres_singlets=[]\n",
    "for cur_multiplet in multiplets_step2:\n",
    "    cur_df=good_data[good_data[\"cellID\"]==cur_multiplet]\n",
    "    cur_UMI_counts=cur_df['nUMI'].values\n",
    "    cur_median_UMI=np.median(cur_UMI_counts)\n",
    "    if((np.max(cur_UMI_counts)-cur_median_UMI)>umi_diff_threshold):\n",
    "        # check if there is more than 1 dominant\n",
    "        dominant_count=0\n",
    "        for cur_UMI in cur_UMI_counts:\n",
    "            cur_diff=cur_UMI-cur_median_UMI\n",
    "            if(cur_diff>umi_diff_threshold or cur_UMI>dominant_threshold):\n",
    "                dominant_count+=1\n",
    "\n",
    "        if(dominant_count==1):\n",
    "            UMI_thres_singlets.append(cur_multiplet)\n"
   ],
   "metadata": {
    "collapsed": false,
    "pycharm": {
     "name": "#%%\n"
    }
   }
  },
  {
   "cell_type": "markdown",
   "source": [],
   "metadata": {
    "collapsed": false
   }
  },
  {
   "cell_type": "code",
   "execution_count": 108,
   "outputs": [
    {
     "name": "stdout",
     "output_type": "stream",
     "text": [
      "Total Singlets: 20477\n",
      "Total Multiplets: 5093\n"
     ]
    }
   ],
   "source": [
    "singlets_step3=list(set(singlets_step2).union(set(UMI_thres_singlets)))\n",
    "multiplets_step3=list(set(multiplets_step2).difference(set(UMI_thres_singlets)))\n",
    "print(\"Total Singlets: {}\\nTotal Multiplets: {}\".format(len(singlets_step3),len(multiplets_step3)))"
   ],
   "metadata": {
    "collapsed": false,
    "pycharm": {
     "name": "#%%\n"
    }
   }
  },
  {
   "cell_type": "code",
   "execution_count": 260,
   "outputs": [],
   "source": [
    "with open(\"./output/step2_singlets.txt\",\"w+\") as fp:\n",
    "    fp.writelines(\"%s\\n\"%l for l in singlets_step2)\n",
    "with open(\"./output/step2_multiplets.txt\",\"w+\") as fp:\n",
    "    fp.writelines(\"%s\\n\"%l for l in multiplets_step2)"
   ],
   "metadata": {
    "collapsed": false,
    "pycharm": {
     "name": "#%%\n"
    }
   }
  },
  {
   "cell_type": "markdown",
   "source": [
    "## A few sanity checks"
   ],
   "metadata": {
    "collapsed": false,
    "pycharm": {
     "name": "#%% md\n"
    }
   }
  },
  {
   "cell_type": "code",
   "execution_count": 16,
   "outputs": [
    {
     "name": "stdout",
     "output_type": "stream",
     "text": [
      "['ATTCCAGCACGACTACGTGCTGCACTTGGACCTGGTGGAGATCTACCTGG'\n",
      " 'ATTGGACCAGTTGATCAAGTACGTCATGTTCTTGGACGACGTCGTCCTCA']\n"
     ]
    },
    {
     "data": {
      "text/plain": "             cellID                                          fatemapID  \\\n3  AAACCCAAGCCGTTAT  ATTCCAGCACGACTACGTGCTGCACTTGGACCTGGTGGAGATCTAC...   \n4  AAACCCAAGCCGTTAT  ATTGGACCAGTTGATCAAGTACGTCATGTTCTTGGACGACGTCGTC...   \n\n   sampleNum  nUMI  \n3          1    14  \n4          1     8  ",
      "text/html": "<div>\n<style scoped>\n    .dataframe tbody tr th:only-of-type {\n        vertical-align: middle;\n    }\n\n    .dataframe tbody tr th {\n        vertical-align: top;\n    }\n\n    .dataframe thead th {\n        text-align: right;\n    }\n</style>\n<table border=\"1\" class=\"dataframe\">\n  <thead>\n    <tr style=\"text-align: right;\">\n      <th></th>\n      <th>cellID</th>\n      <th>fatemapID</th>\n      <th>sampleNum</th>\n      <th>nUMI</th>\n    </tr>\n  </thead>\n  <tbody>\n    <tr>\n      <th>3</th>\n      <td>AAACCCAAGCCGTTAT</td>\n      <td>ATTCCAGCACGACTACGTGCTGCACTTGGACCTGGTGGAGATCTAC...</td>\n      <td>1</td>\n      <td>14</td>\n    </tr>\n    <tr>\n      <th>4</th>\n      <td>AAACCCAAGCCGTTAT</td>\n      <td>ATTGGACCAGTTGATCAAGTACGTCATGTTCTTGGACGACGTCGTC...</td>\n      <td>1</td>\n      <td>8</td>\n    </tr>\n  </tbody>\n</table>\n</div>"
     },
     "execution_count": 16,
     "metadata": {},
     "output_type": "execute_result"
    }
   ],
   "source": [
    "t=\"AAACCCAAGCCGTTAT\"\n",
    "t_df=good_data[good_data[\"cellID\"]==t]\n",
    "t_id=fatemapID_combo=\"_\".join(sorted(t_df[\"fatemapID\"].unique()))\n",
    "print(t_df[\"fatemapID\"].unique())\n",
    "t_df"
   ],
   "metadata": {
    "collapsed": false,
    "pycharm": {
     "name": "#%%\n"
    }
   }
  },
  {
   "cell_type": "code",
   "execution_count": 17,
   "outputs": [
    {
     "data": {
      "text/plain": "['AAACCCAAGCCGTTAT', 'ACATCGACATTCAGGT']"
     },
     "execution_count": 17,
     "metadata": {},
     "output_type": "execute_result"
    }
   ],
   "source": [
    "fatemapID_dict[t_id]"
   ],
   "metadata": {
    "collapsed": false,
    "pycharm": {
     "name": "#%%\n"
    }
   }
  },
  {
   "cell_type": "code",
   "execution_count": 18,
   "outputs": [
    {
     "name": "stdout",
     "output_type": "stream",
     "text": [
      "['ATTCCAGCACGACTACGTGCTGCACTTGGACCTGGTGGAGATCTACCTGG'\n",
      " 'ATTGGACCAGTTGATCAAGTACGTCATGTTCTTGGACGACGTCGTCCTCA']\n"
     ]
    },
    {
     "data": {
      "text/plain": "                cellID                                          fatemapID  \\\n2335  ACATCGACATTCAGGT  ATTCCAGCACGACTACGTGCTGCACTTGGACCTGGTGGAGATCTAC...   \n2336  ACATCGACATTCAGGT  ATTGGACCAGTTGATCAAGTACGTCATGTTCTTGGACGACGTCGTC...   \n\n      sampleNum  nUMI  \n2335          1    43  \n2336          1    43  ",
      "text/html": "<div>\n<style scoped>\n    .dataframe tbody tr th:only-of-type {\n        vertical-align: middle;\n    }\n\n    .dataframe tbody tr th {\n        vertical-align: top;\n    }\n\n    .dataframe thead th {\n        text-align: right;\n    }\n</style>\n<table border=\"1\" class=\"dataframe\">\n  <thead>\n    <tr style=\"text-align: right;\">\n      <th></th>\n      <th>cellID</th>\n      <th>fatemapID</th>\n      <th>sampleNum</th>\n      <th>nUMI</th>\n    </tr>\n  </thead>\n  <tbody>\n    <tr>\n      <th>2335</th>\n      <td>ACATCGACATTCAGGT</td>\n      <td>ATTCCAGCACGACTACGTGCTGCACTTGGACCTGGTGGAGATCTAC...</td>\n      <td>1</td>\n      <td>43</td>\n    </tr>\n    <tr>\n      <th>2336</th>\n      <td>ACATCGACATTCAGGT</td>\n      <td>ATTGGACCAGTTGATCAAGTACGTCATGTTCTTGGACGACGTCGTC...</td>\n      <td>1</td>\n      <td>43</td>\n    </tr>\n  </tbody>\n</table>\n</div>"
     },
     "execution_count": 18,
     "metadata": {},
     "output_type": "execute_result"
    }
   ],
   "source": [
    "t=\"ACATCGACATTCAGGT\"\n",
    "t_df=good_data[good_data[\"cellID\"]==t]\n",
    "t_id=fatemapID_combo=\"_\".join(sorted(t_df[\"fatemapID\"].unique()))\n",
    "print(t_df[\"fatemapID\"].unique())\n",
    "t_df"
   ],
   "metadata": {
    "collapsed": false,
    "pycharm": {
     "name": "#%%\n"
    }
   }
  },
  {
   "cell_type": "code",
   "execution_count": null,
   "outputs": [],
   "source": [],
   "metadata": {
    "collapsed": false,
    "pycharm": {
     "name": "#%%\n"
    }
   }
  }
 ],
 "metadata": {
  "kernelspec": {
   "display_name": "Python 3",
   "language": "python",
   "name": "python3"
  },
  "language_info": {
   "codemirror_mode": {
    "name": "ipython",
    "version": 3
   },
   "file_extension": ".py",
   "mimetype": "text/x-python",
   "name": "python",
   "nbconvert_exporter": "python",
   "pygments_lexer": "ipython3",
   "version": "3.8.3"
  }
 },
 "nbformat": 4,
 "nbformat_minor": 4
}